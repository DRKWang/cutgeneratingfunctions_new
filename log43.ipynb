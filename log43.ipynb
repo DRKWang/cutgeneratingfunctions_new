{
 "cells": [
  {
   "cell_type": "markdown",
   "metadata": {},
   "source": [
    "1. have check `fan.py` file, found the following places that could be modified potentially."
   ]
  },
  {
   "cell_type": "markdown",
   "metadata": {},
   "source": [
    "1. function `is_face_of` (in class `cone`)\n",
    "\n",
    "2. function `self._contains` (in class `RationalPolyhedralFan`), #1569, #1913, `self.__contains__`\n",
    "\n",
    "3. cone.intersection (in class `cone`) (#610)\n"
   ]
  },
  {
   "cell_type": "markdown",
   "metadata": {},
   "source": [
    "1. `cone._contains()` #1624\n",
    "\n",
    "2. `cone._ambient_space_point`, ..., relative._interior_point,\n",
    "\n",
    "3. #2326 embed\n",
    "\n",
    "4. `cone.intersections`, #2997\n",
    "\n",
    "5.  `is_face_of` #3122"
   ]
  },
  {
   "cell_type": "code",
   "execution_count": null,
   "metadata": {},
   "outputs": [],
   "source": []
  }
 ],
 "metadata": {
  "kernelspec": {
   "display_name": "SageMath 9.5.beta0",
   "language": "sage",
   "name": "sagemath"
  },
  "language_info": {
   "codemirror_mode": {
    "name": "ipython",
    "version": 3
   },
   "file_extension": ".py",
   "mimetype": "text/x-python",
   "name": "python",
   "nbconvert_exporter": "python",
   "pygments_lexer": "ipython3",
   "version": "3.9.7"
  }
 },
 "nbformat": 4,
 "nbformat_minor": 4
}
