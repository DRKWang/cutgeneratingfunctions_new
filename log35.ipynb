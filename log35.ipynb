{
 "cells": [
  {
   "cell_type": "markdown",
   "metadata": {},
   "source": [
    "# Experimental codes for testing potential arithematic precision errors."
   ]
  },
  {
   "cell_type": "markdown",
   "metadata": {},
   "source": [
    "The following results only take rtree into account, not including libspatialindex, since libspatialindex is not more directly used than rtree."
   ]
  },
  {
   "cell_type": "markdown",
   "metadata": {},
   "source": [
    "# 1. The dimension of index database should always be greater than 1. (0 or 1 dimension will fail)."
   ]
  },
  {
   "cell_type": "code",
   "execution_count": 41,
   "metadata": {},
   "outputs": [],
   "source": [
    "from rtree import index"
   ]
  },
  {
   "cell_type": "code",
   "execution_count": 10,
   "metadata": {},
   "outputs": [
    {
     "ename": "RTreeError",
     "evalue": "Error in \"Index_Create\": Spatial Index Error: IllegalArgumentException: initNew: Property Dimension must be greater than 1",
     "output_type": "error",
     "traceback": [
      "\u001b[0;31m---------------------------------------------------------------------------\u001b[0m",
      "\u001b[0;31mRTreeError\u001b[0m                                Traceback (most recent call last)",
      "\u001b[0;32m<ipython-input-10-3f35909d3f99>\u001b[0m in \u001b[0;36m<module>\u001b[0;34m\u001b[0m\n\u001b[1;32m      4\u001b[0m \u001b[0mp\u001b[0m\u001b[0;34m.\u001b[0m\u001b[0mdat_extension\u001b[0m \u001b[0;34m=\u001b[0m \u001b[0;34m'data'\u001b[0m\u001b[0;34m\u001b[0m\u001b[0;34m\u001b[0m\u001b[0m\n\u001b[1;32m      5\u001b[0m \u001b[0mp\u001b[0m\u001b[0;34m.\u001b[0m\u001b[0midx_extension\u001b[0m \u001b[0;34m=\u001b[0m \u001b[0;34m'index'\u001b[0m\u001b[0;34m\u001b[0m\u001b[0;34m\u001b[0m\u001b[0m\n\u001b[0;32m----> 6\u001b[0;31m \u001b[0mdb\u001b[0m \u001b[0;34m=\u001b[0m \u001b[0mindex\u001b[0m\u001b[0;34m.\u001b[0m\u001b[0mIndex\u001b[0m\u001b[0;34m(\u001b[0m\u001b[0mproperties\u001b[0m \u001b[0;34m=\u001b[0m \u001b[0mp\u001b[0m\u001b[0;34m,\u001b[0m \u001b[0minterleaved\u001b[0m \u001b[0;34m=\u001b[0m \u001b[0;32mFalse\u001b[0m\u001b[0;34m)\u001b[0m\u001b[0;34m\u001b[0m\u001b[0;34m\u001b[0m\u001b[0m\n\u001b[0m\u001b[1;32m      7\u001b[0m \u001b[0mdb\u001b[0m\u001b[0;34m.\u001b[0m\u001b[0minsert\u001b[0m\u001b[0;34m(\u001b[0m\u001b[0;36m1\u001b[0m\u001b[0;34m,\u001b[0m \u001b[0;34m(\u001b[0m\u001b[0;36m0\u001b[0m\u001b[0;34m,\u001b[0m \u001b[0;36m0\u001b[0m\u001b[0;34m)\u001b[0m\u001b[0;34m,\u001b[0m\u001b[0mobj\u001b[0m \u001b[0;34m=\u001b[0m \u001b[0;34m[\u001b[0m\u001b[0;34m'a'\u001b[0m\u001b[0;34m]\u001b[0m\u001b[0;34m)\u001b[0m \u001b[0;31m#(x_min, y_min, z_min, x_max, y_max, z_max)\u001b[0m\u001b[0;34m\u001b[0m\u001b[0;34m\u001b[0m\u001b[0m\n\u001b[1;32m      8\u001b[0m \u001b[0mdb\u001b[0m\u001b[0;34m.\u001b[0m\u001b[0minsert\u001b[0m\u001b[0;34m(\u001b[0m\u001b[0;36m2\u001b[0m\u001b[0;34m,\u001b[0m \u001b[0;34m(\u001b[0m\u001b[0;36m0.0\u001b[0m\u001b[0;34m,\u001b[0m \u001b[0;36m0.0\u001b[0m\u001b[0;34m)\u001b[0m\u001b[0;34m,\u001b[0m\u001b[0mobj\u001b[0m \u001b[0;34m=\u001b[0m \u001b[0;34m[\u001b[0m\u001b[0;34m'b'\u001b[0m\u001b[0;34m]\u001b[0m\u001b[0;34m)\u001b[0m \u001b[0;31m#(x_min, y_min, z_min, x_max, y_max, z_max)\u001b[0m\u001b[0;34m\u001b[0m\u001b[0;34m\u001b[0m\u001b[0m\n",
      "\u001b[0;32m~/Research/sage_new/sage/local/lib/python3.7/site-packages/rtree/index.py\u001b[0m in \u001b[0;36m__init__\u001b[0;34m(self, *args, **kwargs)\u001b[0m\n\u001b[1;32m    284\u001b[0m                 \u001b[0;32mraise\u001b[0m \u001b[0mself\u001b[0m\u001b[0;34m.\u001b[0m\u001b[0m_exception\u001b[0m\u001b[0;34m\u001b[0m\u001b[0;34m\u001b[0m\u001b[0m\n\u001b[1;32m    285\u001b[0m         \u001b[0;32melse\u001b[0m\u001b[0;34m:\u001b[0m\u001b[0;34m\u001b[0m\u001b[0;34m\u001b[0m\u001b[0m\n\u001b[0;32m--> 286\u001b[0;31m             \u001b[0mself\u001b[0m\u001b[0;34m.\u001b[0m\u001b[0mhandle\u001b[0m \u001b[0;34m=\u001b[0m \u001b[0mIndexHandle\u001b[0m\u001b[0;34m(\u001b[0m\u001b[0mself\u001b[0m\u001b[0;34m.\u001b[0m\u001b[0mproperties\u001b[0m\u001b[0;34m.\u001b[0m\u001b[0mhandle\u001b[0m\u001b[0;34m)\u001b[0m\u001b[0;34m\u001b[0m\u001b[0;34m\u001b[0m\u001b[0m\n\u001b[0m\u001b[1;32m    287\u001b[0m             \u001b[0;32mif\u001b[0m \u001b[0mstream\u001b[0m\u001b[0;34m:\u001b[0m  \u001b[0;31m# Bulk insert not supported, so add one by one\u001b[0m\u001b[0;34m\u001b[0m\u001b[0;34m\u001b[0m\u001b[0m\n\u001b[1;32m    288\u001b[0m                 \u001b[0;32mfor\u001b[0m \u001b[0mitem\u001b[0m \u001b[0;32min\u001b[0m \u001b[0mstream\u001b[0m\u001b[0;34m:\u001b[0m\u001b[0;34m\u001b[0m\u001b[0;34m\u001b[0m\u001b[0m\n",
      "\u001b[0;32m~/Research/sage_new/sage/local/lib/python3.7/site-packages/rtree/index.py\u001b[0m in \u001b[0;36m__init__\u001b[0;34m(self, *args, **kwargs)\u001b[0m\n\u001b[1;32m   1207\u001b[0m \u001b[0;34m\u001b[0m\u001b[0m\n\u001b[1;32m   1208\u001b[0m     \u001b[0;32mdef\u001b[0m \u001b[0m__init__\u001b[0m\u001b[0;34m(\u001b[0m\u001b[0mself\u001b[0m\u001b[0;34m,\u001b[0m \u001b[0;34m*\u001b[0m\u001b[0margs\u001b[0m\u001b[0;34m,\u001b[0m \u001b[0;34m**\u001b[0m\u001b[0mkwargs\u001b[0m\u001b[0;34m)\u001b[0m\u001b[0;34m:\u001b[0m\u001b[0;34m\u001b[0m\u001b[0;34m\u001b[0m\u001b[0m\n\u001b[0;32m-> 1209\u001b[0;31m         \u001b[0mself\u001b[0m\u001b[0;34m.\u001b[0m\u001b[0m_ptr\u001b[0m \u001b[0;34m=\u001b[0m \u001b[0mself\u001b[0m\u001b[0;34m.\u001b[0m\u001b[0m_create\u001b[0m\u001b[0;34m(\u001b[0m\u001b[0;34m*\u001b[0m\u001b[0margs\u001b[0m\u001b[0;34m,\u001b[0m \u001b[0;34m**\u001b[0m\u001b[0mkwargs\u001b[0m\u001b[0;34m)\u001b[0m\u001b[0;34m\u001b[0m\u001b[0;34m\u001b[0m\u001b[0m\n\u001b[0m\u001b[1;32m   1210\u001b[0m \u001b[0;34m\u001b[0m\u001b[0m\n\u001b[1;32m   1211\u001b[0m     \u001b[0;32mdef\u001b[0m \u001b[0m_create\u001b[0m\u001b[0;34m(\u001b[0m\u001b[0mself\u001b[0m\u001b[0;34m,\u001b[0m \u001b[0;34m*\u001b[0m\u001b[0margs\u001b[0m\u001b[0;34m,\u001b[0m \u001b[0;34m**\u001b[0m\u001b[0mkwargs\u001b[0m\u001b[0;34m)\u001b[0m\u001b[0;34m:\u001b[0m\u001b[0;34m\u001b[0m\u001b[0;34m\u001b[0m\u001b[0m\n",
      "\u001b[0;32m~/Research/sage_new/sage/local/lib/python3.7/site-packages/rtree/core.py\u001b[0m in \u001b[0;36mcheck_void\u001b[0;34m(result, func, cargs)\u001b[0m\n\u001b[1;32m     22\u001b[0m         \u001b[0mmsg\u001b[0m \u001b[0;34m=\u001b[0m \u001b[0;34m'Error in \"%s\": %s'\u001b[0m \u001b[0;34m%\u001b[0m \u001b[0;34m(\u001b[0m\u001b[0mfunc\u001b[0m\u001b[0;34m.\u001b[0m\u001b[0m__name__\u001b[0m\u001b[0;34m,\u001b[0m \u001b[0ms\u001b[0m\u001b[0;34m)\u001b[0m\u001b[0;34m\u001b[0m\u001b[0;34m\u001b[0m\u001b[0m\n\u001b[1;32m     23\u001b[0m         \u001b[0mrt\u001b[0m\u001b[0;34m.\u001b[0m\u001b[0mError_Reset\u001b[0m\u001b[0;34m(\u001b[0m\u001b[0;34m)\u001b[0m\u001b[0;34m\u001b[0m\u001b[0;34m\u001b[0m\u001b[0m\n\u001b[0;32m---> 24\u001b[0;31m         \u001b[0;32mraise\u001b[0m \u001b[0mRTreeError\u001b[0m\u001b[0;34m(\u001b[0m\u001b[0mmsg\u001b[0m\u001b[0;34m)\u001b[0m\u001b[0;34m\u001b[0m\u001b[0;34m\u001b[0m\u001b[0m\n\u001b[0m\u001b[1;32m     25\u001b[0m     \u001b[0;32mreturn\u001b[0m \u001b[0mresult\u001b[0m\u001b[0;34m\u001b[0m\u001b[0;34m\u001b[0m\u001b[0m\n\u001b[1;32m     26\u001b[0m \u001b[0;34m\u001b[0m\u001b[0m\n",
      "\u001b[0;31mRTreeError\u001b[0m: Error in \"Index_Create\": Spatial Index Error: IllegalArgumentException: initNew: Property Dimension must be greater than 1"
     ]
    }
   ],
   "source": [
    "#points-to-point intersection test in 1 dimension\n",
    "p = index.Property()\n",
    "p.dimension = 1\n",
    "p.dat_extension = 'data'\n",
    "p.idx_extension = 'index'\n",
    "db = index.Index(properties = p, interleaved = False)\n",
    "db.insert(1, (0, 0),obj = ['a']) #(x_min, y_min, z_min, x_max, y_max, z_max)\n",
    "db.insert(2, (0.0, 0.0),obj = ['b']) #(x_min, y_min, z_min, x_max, y_max, z_max)\n",
    "db.insert(2, (0.0, 0.00000000),obj = ['b']) #(x_min, y_min, z_min, x_max, y_max, z_max)\n",
    "hits = list(db.intersection((0, 0),objects = True))\n",
    "[(item.object, item.bbox) for item in hits]"
   ]
  },
  {
   "cell_type": "markdown",
   "metadata": {},
   "source": [
    "# 2. The arithematic precision is 16 decimal digits, which comes from the double type's precision. ( The program will only takes the top 16 decimal digits of the number as itself, no matter how large or small this number is.)"
   ]
  },
  {
   "cell_type": "markdown",
   "metadata": {},
   "source": [
    "For the top one, the retrieving will not consider they are the same one, since the last digit can be distinguished.\n",
    "For the bottom one, the retrieving will consider they are the same, since the last digit can not be distinguished because 16 decimal digits is largest number they can capture."
   ]
  },
  {
   "cell_type": "code",
   "execution_count": 6,
   "metadata": {},
   "outputs": [
    {
     "name": "stdout",
     "output_type": "stream",
     "text": [
      "----------------\n",
      "----------------\n"
     ]
    },
    {
     "data": {
      "text/plain": [
       "[(['a'], [0.0, 0.0, 0.0, 1e+17, 0.0, 0.0, 0.0, 1e+17]),\n",
       " (['b'], [0.0, 0.0, 0.0, 1e+17, 0.0, 0.0, 0.0, 1e+17]),\n",
       " (['b'], [0.0, 0.0, 0.0, 1e+17, 0.0, 0.0, 0.0, 1e+17])]"
      ]
     },
     "execution_count": 6,
     "metadata": {},
     "output_type": "execute_result"
    }
   ],
   "source": [
    "# intervals-to-point intersection test in 4 dimension\n",
    "print('----------------')\n",
    "p = index.Property()\n",
    "p.dimension = 4\n",
    "p.dat_extension = 'data'\n",
    "p.idx_extension = 'index'\n",
    "db = index.Index(properties = p, interleaved = False)\n",
    "# 16 decimal digits\n",
    "db.insert(1, (0, 0, 0, 0, 0, 0, 9999999999999998,9999999999999998),obj = ['a']) #(x_min, y_min, z_min, x_max, y_max, z_max)\n",
    "db.insert(2, (0, 0, 0, 0, 0, 0, 9999999999999998,9999999999999998),obj = ['b']) #(x_min, y_min, z_min, x_max, y_max, z_max)\n",
    "db.insert(2, (0, 0, 0, 0, 0, 0, 9999999999999998,9999999999999998),obj = ['b']) #(x_min, y_min, z_min, x_max, y_max, z_max)\n",
    "hits = list(db.intersection((0, 0, 0, 0, 0, 0, 9999999999999999,9999999999999999),objects = True))\n",
    "[(item.object, item.bbox) for item in hits] \n",
    "print('----------------')\n",
    "p = index.Property()\n",
    "p.dimension = 4\n",
    "p.dat_extension = 'data'\n",
    "p.idx_extension = 'index'\n",
    "# 17 decimal digits\n",
    "db = index.Index(properties = p, interleaved = False)\n",
    "db.insert(1, (0, 0, 0, 0, 0, 0, 99999999999999998,99999999999999998),obj = ['a']) #(x_min, y_min, z_min, x_max, y_max, z_max)\n",
    "db.insert(2, (0, 0, 0, 0, 0, 0, 99999999999999998,99999999999999998),obj = ['b']) #(x_min, y_min, z_min, x_max, y_max, z_max)\n",
    "db.insert(2, (0, 0, 0, 0, 0, 0, 99999999999999998,99999999999999998),obj = ['b']) #(x_min, y_min, z_min, x_max, y_max, z_max)\n",
    "hits = list(db.intersection((0, 0, 0, 0, 0, 0, 99999999999999999,99999999999999999),objects = True))\n",
    "[(item.object, item.bbox) for item in hits] "
   ]
  },
  {
   "cell_type": "markdown",
   "metadata": {},
   "source": [
    "# 3. The limitation of arithematic precision is 324 decimal digits, which is because from the python minimal measurement of distinguishing two different number."
   ]
  },
  {
   "cell_type": "code",
   "execution_count": 18,
   "metadata": {},
   "outputs": [
    {
     "data": {
      "text/plain": [
       "(False, True)"
      ]
     },
     "execution_count": 18,
     "metadata": {},
     "output_type": "execute_result"
    }
   ],
   "source": [
    "((10**(-323) == 0.0),(10**(-324) == 0.0))"
   ]
  },
  {
   "cell_type": "code",
   "execution_count": 17,
   "metadata": {
    "scrolled": true
   },
   "outputs": [
    {
     "data": {
      "text/plain": [
       "[(['a'], [0.0, 0.0, 0.0, -1e-323, 0.0, 0.0, 0.0, -1e-323]),\n",
       " (['b'], [0.0, 0.0, 0.0, -1e-323, 0.0, 0.0, 0.0, -1e-323]),\n",
       " (['b'], [0.0, 0.0, 0.0, 0.0, 0.0, 0.0, 0.0, 0.0])]"
      ]
     },
     "execution_count": 17,
     "metadata": {},
     "output_type": "execute_result"
    }
   ],
   "source": [
    "# intervals-to-point intersection test in 4 dimension\n",
    "p = index.Property() \n",
    "p.dimension = 4\n",
    "p.dat_extension = 'data'\n",
    "p.idx_extension = 'index'\n",
    "db = index.Index(properties = p, interleaved = False)\n",
    "db.insert(1, (0, 0, 0, 0, 0, 0, 0-10**(-323), 0),obj = ['a']) #(x_min, y_min, z_min, x_max, y_max, z_max)\n",
    "db.insert(2, (0, 0, 0, 0, 0, 0, 0-10**(-323), 0),obj = ['b']) #(x_min, y_min, z_min, x_max, y_max, z_max)\n",
    "db.insert(2, (0, 0, 0, 0, 0, 0, 0-10**(-324), 0),obj = ['b']) #(x_min, y_min, z_min, x_max, y_max, z_max)\n",
    "hits = list(db.intersection((0, 0, 0, 0, 0, 0, 0-10**(-323),0-10**(-324)),objects = True))\n",
    "[(item.object, item.bbox) for item in hits]"
   ]
  },
  {
   "cell_type": "markdown",
   "metadata": {},
   "source": [
    "# 4. The intersection for retrieving is closed intersection, in contrast with open intersection. (-0.000) is also considered as the same number as 0, but both representation will be displayed at the same time."
   ]
  },
  {
   "cell_type": "code",
   "execution_count": 26,
   "metadata": {},
   "outputs": [
    {
     "data": {
      "text/plain": [
       "[(['a'], [0.0, 0.0, 0.0, 0.0, 0.0, 0.0]),\n",
       " (['b'], [0.0, 0.0, -0.0, 0.0, 0.0, -0.0]),\n",
       " (['b'], [0.0, 0.0, -0.0, 0.0, 0.0, -0.0])]"
      ]
     },
     "execution_count": 26,
     "metadata": {},
     "output_type": "execute_result"
    }
   ],
   "source": [
    "#points-to-point intersection test in 2 dimension\n",
    "p = index.Property()\n",
    "p.dimension = 3\n",
    "p.dat_extension = 'data'\n",
    "p.idx_extension = 'index'\n",
    "db = index.Index(properties = p, interleaved = False)\n",
    "db.insert(1, (0, 0,0,0, 0.000000, -0.0000),obj = ['a']) #(x_min, y_min, z_min, x_max, y_max, z_max)\n",
    "db.insert(2, (0.0, 0.0, 0,0, -0.000000, -0.0000),obj = ['b']) #(x_min, y_min, z_min, x_max, y_max, z_max)\n",
    "db.insert(2, (0.0, 0.00000000, 0,0, -0.000000, -0.0000),obj = ['b']) #(x_min, y_min, z_min, x_max, y_max, z_max)\n",
    "hits = list(db.intersection((0, -0, 0,0, -0.000000, 0.0000),objects = True))\n",
    "[(item.object, item.bbox) for item in hits]"
   ]
  },
  {
   "cell_type": "markdown",
   "metadata": {},
   "source": [
    "# 5. Round test. The round processing is not stable."
   ]
  },
  {
   "cell_type": "code",
   "execution_count": 37,
   "metadata": {},
   "outputs": [
    {
     "name": "stdout",
     "output_type": "stream",
     "text": [
      "----------------\n"
     ]
    },
    {
     "data": {
      "text/plain": [
       "[(['b'],\n",
       "  [0.0, 0.0, 0.0, 9999999999999996.0, 0.0, 0.0, 0.0, 9999999999999996.0])]"
      ]
     },
     "execution_count": 37,
     "metadata": {},
     "output_type": "execute_result"
    }
   ],
   "source": [
    "print('----------------')\n",
    "p = index.Property()\n",
    "p.dimension = 4\n",
    "p.dat_extension = 'data'\n",
    "p.idx_extension = 'index'\n",
    "db = index.Index(properties = p, interleaved = False)\n",
    "# 16 decimal digits\n",
    "db.insert(1, (0, 0, 0, 0, 0, 0, 9999999999999991,9999999999999991),obj = ['a']) #(x_min, y_min, z_min, x_max, y_max, z_max)\n",
    "db.insert(2, (0, 0, 0, 0, 0, 0, 9999999999999994,9999999999999994),obj = ['b']) #(x_min, y_min, z_min, x_max, y_max, z_max)\n",
    "db.insert(2, (0, 0, 0, 0, 0, 0, 9999999999999996,9999999999999996),obj = ['b']) #(x_min, y_min, z_min, x_max, y_max, z_max)\n",
    "db.insert(2, (0, 0, 0, 0, 0, 0, 9999999999999998,9999999999999998),obj = ['c']) #(x_min, y_min, z_min, x_max, y_max, z_max)\n",
    "hits = list(db.intersection((0, 0, 0, 0, 0, 0, 9999999999999995,9999999999999995),objects = True))\n",
    "[(item.object, item.bbox) for item in hits] "
   ]
  },
  {
   "cell_type": "code",
   "execution_count": 38,
   "metadata": {},
   "outputs": [
    {
     "name": "stdout",
     "output_type": "stream",
     "text": [
      "----------------\n"
     ]
    },
    {
     "data": {
      "text/plain": [
       "[(['a'],\n",
       "  [0.0, 0.0, 0.0, 9999999999999992.0, 0.0, 0.0, 0.0, 9999999999999992.0])]"
      ]
     },
     "execution_count": 38,
     "metadata": {},
     "output_type": "execute_result"
    }
   ],
   "source": [
    "print('----------------')\n",
    "p = index.Property()\n",
    "p.dimension = 4\n",
    "p.dat_extension = 'data'\n",
    "p.idx_extension = 'index'\n",
    "db = index.Index(properties = p, interleaved = False)\n",
    "# 16 decimal digits\n",
    "db.insert(1, (0, 0, 0, 0, 0, 0, 9999999999999991,9999999999999991),obj = ['a']) #(x_min, y_min, z_min, x_max, y_max, z_max)\n",
    "db.insert(2, (0, 0, 0, 0, 0, 0, 9999999999999994,9999999999999994),obj = ['b']) #(x_min, y_min, z_min, x_max, y_max, z_max)\n",
    "db.insert(2, (0, 0, 0, 0, 0, 0, 9999999999999996,9999999999999996),obj = ['b']) #(x_min, y_min, z_min, x_max, y_max, z_max)\n",
    "db.insert(2, (0, 0, 0, 0, 0, 0, 9999999999999998,9999999999999998),obj = ['c']) #(x_min, y_min, z_min, x_max, y_max, z_max)\n",
    "hits = list(db.intersection((0, 0, 0, 0, 0, 0, 9999999999999993,9999999999999993),objects = True))\n",
    "[(item.object, item.bbox) for item in hits] "
   ]
  },
  {
   "cell_type": "code",
   "execution_count": 39,
   "metadata": {
    "scrolled": false
   },
   "outputs": [
    {
     "name": "stdout",
     "output_type": "stream",
     "text": [
      "----------------\n"
     ]
    },
    {
     "data": {
      "text/plain": [
       "[]"
      ]
     },
     "execution_count": 39,
     "metadata": {},
     "output_type": "execute_result"
    }
   ],
   "source": [
    "print('----------------')\n",
    "p = index.Property()\n",
    "p.dimension = 4\n",
    "p.dat_extension = 'data'\n",
    "p.idx_extension = 'index'\n",
    "db = index.Index(properties = p, interleaved = False)\n",
    "# 15 decimal digits\n",
    "db.insert(1, (0, 0, 0, 0, 0, 0, 999999999999991,999999999999991),obj = ['a']) #(x_min, y_min, z_min, x_max, y_max, z_max)\n",
    "db.insert(2, (0, 0, 0, 0, 0, 0, 999999999999994,999999999999994),obj = ['b']) #(x_min, y_min, z_min, x_max, y_max, z_max)\n",
    "db.insert(2, (0, 0, 0, 0, 0, 0, 999999999999996,999999999999996),obj = ['b']) #(x_min, y_min, z_min, x_max, y_max, z_max)\n",
    "db.insert(2, (0, 0, 0, 0, 0, 0, 999999999999998,999999999999998),obj = ['c']) #(x_min, y_min, z_min, x_max, y_max, z_max)\n",
    "hits = list(db.intersection((0, 0, 0, 0, 0, 0, 999999999999993,999999999999993),objects = True))\n",
    "[(item.object, item.bbox) for item in hits] "
   ]
  },
  {
   "cell_type": "markdown",
   "metadata": {},
   "source": [
    "The advantage of this library is that it is positive in the memory and storage, but not good at the precision control."
   ]
  }
 ],
 "metadata": {
  "kernelspec": {
   "display_name": "Python 3",
   "language": "python",
   "name": "python3"
  },
  "language_info": {
   "codemirror_mode": {
    "name": "ipython",
    "version": 3
   },
   "file_extension": ".py",
   "mimetype": "text/x-python",
   "name": "python",
   "nbconvert_exporter": "python",
   "pygments_lexer": "ipython3",
   "version": "3.7.9"
  }
 },
 "nbformat": 4,
 "nbformat_minor": 4
}
