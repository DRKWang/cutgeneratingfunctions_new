{
 "cells": [
  {
   "cell_type": "markdown",
   "metadata": {},
   "source": [
    "1. My laptop has been fully erased due to a storage problem, part of my data and document has been missed."
   ]
  },
  {
   "cell_type": "markdown",
   "metadata": {},
   "source": [
    "2. have checked `fan.py` and `cone.py` file, found the following places that could be modified potentially."
   ]
  },
  {
   "cell_type": "markdown",
   "metadata": {},
   "source": [
    "`fan.py`\n",
    "\n",
    "1. function `is_face_of` (in class `cone`)\n",
    "\n",
    "2. function `self._contains` (in class `RationalPolyhedralFan`), #1569, #1913, `self.__contains__`\n",
    "\n",
    "3. cone.intersection (in class `cone`) (#610)\n"
   ]
  },
  {
   "cell_type": "markdown",
   "metadata": {},
   "source": [
    "`cone.py`\n",
    "\n",
    "1. `cone._contains()` #1624\n",
    "\n",
    "2. `cone._ambient_space_point`, ..., relative._interior_point,\n",
    "\n",
    "3. #2326 embed\n",
    "\n",
    "4. `cone.intersections`, #2997\n",
    "\n",
    "5.  `is_face_of` #3122"
   ]
  },
  {
   "cell_type": "markdown",
   "metadata": {},
   "source": [
    "If cone $A$ and cone $B$ are intersected, then their token $A'$, $B'$, whose vertexes comes from intersections between surface of ojbects $||x||_1 <= 1$ and generating rays of each cones, are also intersected. In turn, their boxes in rtree also interesected.\n",
    "\n",
    "Thus, if their boxes in rtree are not intersected with each other, then cone $A$ and cone $B$ will not intersected with each other.\n",
    "\n",
    "In addition, if the intersection of cone $A$ and cone $B$ is only one ray, then the above claim still works.\n"
   ]
  },
  {
   "cell_type": "markdown",
   "metadata": {},
   "source": [
    "For the most of above cases, `rtree` was used when element-to-set happens, such as face-to-cone, (`is_face_of`), cone-to-fan, (`RationalPolyhedralFan._contains`). We can always use preseted linear project vector generated from the set to give the highest ability of seperation.\n",
    "\n",
    "And we can build a new subclass of those class for a `rtree` flavor."
   ]
  },
  {
   "cell_type": "markdown",
   "metadata": {},
   "source": [
    "For the peer-to-peer operation, such as `cone.intersection()`, we can also use `rtree`.\n",
    "From tokens to the boxes, the linear project vectors play an important role for transformation and should be chosed carefully. \n",
    "\n",
    "1. Since all of those tokens will be uniformly transformed by those vectors, they should be decided by in advanced, (it could be adaptively decided, but how to reply is another problem).\n",
    "\n",
    "2. It is better to make them random unless the distribution of those cones has been announced.\n",
    "\n",
    "3. It should not be too few, since that will jeopardize the ability of separation.\n",
    "\n",
    "4. It should not be too much, since that will potentially increase the complexity of computation.\n",
    "\n",
    "Considering all above cases, we can use the orthonormal basis `N(1,0,0, ..., 0)`, `N(0,1,0,...,0)`, ...`N(0,0,0,...,1)` as the basis for linear project vectors.\n"
   ]
  },
  {
   "cell_type": "markdown",
   "metadata": {},
   "source": []
  }
 ],
 "metadata": {
  "kernelspec": {
   "display_name": "SageMath 9.5.beta0",
   "language": "sage",
   "name": "sagemath"
  },
  "language_info": {
   "codemirror_mode": {
    "name": "ipython",
    "version": 3
   },
   "file_extension": ".py",
   "mimetype": "text/x-python",
   "name": "python",
   "nbconvert_exporter": "python",
   "pygments_lexer": "ipython3",
   "version": "3.9.7"
  }
 },
 "nbformat": 4,
 "nbformat_minor": 4
}
