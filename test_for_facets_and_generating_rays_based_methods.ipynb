{
 "cells": [
  {
   "cell_type": "markdown",
   "metadata": {},
   "source": [
    "# Tests"
   ]
  },
  {
   "cell_type": "code",
   "execution_count": 168,
   "metadata": {},
   "outputs": [],
   "source": [
    "from sage.misc.prandom import random\n",
    "import time"
   ]
  },
  {
   "cell_type": "code",
   "execution_count": 169,
   "metadata": {},
   "outputs": [
    {
     "name": "stdout",
     "output_type": "stream",
     "text": [
      "Test 1\n",
      "The dim is 15, the number of cones is 100, and each cone includes 1 rays.\n",
      "facets-based method:\n",
      "is_pointed : False\n",
      "time is 9.701210975646973\n",
      "generating-rays-based method:\n",
      "is_pointed : False\n",
      "time is 0.013384819030761719\n"
     ]
    }
   ],
   "source": [
    "dim = 15\n",
    "num = 100\n",
    "rays_num = 1\n",
    "\n",
    "generating_cones = []\n",
    "for k in range(num):\n",
    "    ray = tuple(random()-0.5 for i in [1 .. dim])\n",
    "    generating_cones.append(Cone([ray]))\n",
    "\n",
    "print(\"Test 1\")\n",
    "print(\"The dim is {}, the number of cones is {}, and each cone includes {} rays.\".format(dim,num,rays_num))\n",
    "_is_pointed = None\n",
    "tik = time.time()\n",
    "empty_cone = Cone([],lattice = generating_cones[0].lattice())\n",
    "common_intersection = empty_cone.dual()\n",
    "for _ in range(num):\n",
    "    common_intersection = common_intersection.intersection(generating_cones[_].polar())\n",
    "    if common_intersection.dim() == 0:\n",
    "        #if common_intersection is empty, then the fan is not pointed.\n",
    "        _is_pointed = False\n",
    "        break\n",
    "if _is_pointed == None:\n",
    "    _is_pointed = True\n",
    "tok = time.time()\n",
    "print(\"facets-based method:\")\n",
    "print(\"is_pointed : {}\".format(_is_pointed))\n",
    "print(\"time is {}\".format(tok-tik))\n",
    "\n",
    "_is_pointed = None\n",
    "tik = time.time()\n",
    "p = MixedIntegerLinearProgram(solver = 'GLPK', maximization = True)\n",
    "x = p.new_variable()\n",
    "b = p.new_variable()\n",
    "B = p.new_variable()\n",
    "p.solver_parameter(\"simplex_or_intopt\", \"simplex_only\") # use simplex only\n",
    "p.set_objective(B[0])\n",
    "for i in range(num):\n",
    "    p.add_constraint( p.sum(x[_] * generating_cones[i].rays()[0][_] for _ in range(dim)) <= -b[i] )\n",
    "    p.add_constraint(1>= b[i] >= B[0])\n",
    "for j in range(dim):\n",
    "    p.add_constraint( -1 <= x[j]  <= 1 )\n",
    "p.add_constraint(1>=B[0]>=0)\n",
    "if p.solve() <= 10e-15:\n",
    "    _is_pointed = False\n",
    "else:\n",
    "    _is_pointed = True\n",
    "tok = time.time()\n",
    "print(\"generating-rays-based method:\")\n",
    "print(\"is_pointed : {}\".format(_is_pointed))\n",
    "print(\"time is {}\".format(tok-tik))"
   ]
  },
  {
   "cell_type": "code",
   "execution_count": 174,
   "metadata": {},
   "outputs": [
    {
     "name": "stdout",
     "output_type": "stream",
     "text": [
      "Test 2\n",
      "The dim is 15, the number of cones is 100, and each cone includes 3 rays.\n",
      "facets-based method:\n",
      "is_pointed : False\n",
      "time is 10.962341785430908\n",
      "generating-rays-based method:\n",
      "is_pointed : False\n",
      "time is 0.028542041778564453\n"
     ]
    }
   ],
   "source": [
    "dim = 15\n",
    "num = 100\n",
    "rays_num = 3\n",
    "\n",
    "generating_cones = []\n",
    "for k in range(num):\n",
    "    rays = []\n",
    "    for j in range(rays_num):\n",
    "        ray = tuple(random()-0.5 for i in [1 .. dim])\n",
    "        rays.append(ray)\n",
    "    generating_cones.append(Cone(rays))\n",
    "\n",
    "print(\"Test 2\")\n",
    "print(\"The dim is {}, the number of cones is {}, and each cone includes {} rays.\".format(dim,num,rays_num))\n",
    "_is_pointed = None\n",
    "tik = time.time()\n",
    "empty_cone = Cone([],lattice = generating_cones[0].lattice())\n",
    "common_intersection = empty_cone.dual()\n",
    "for _ in range(num):\n",
    "    common_intersection = common_intersection.intersection(generating_cones[_].polar())\n",
    "    if common_intersection.dim() == 0:\n",
    "        #if common_intersection is empty, then the fan is not pointed.\n",
    "        _is_pointed = False\n",
    "        break\n",
    "if _is_pointed == None:\n",
    "    _is_pointed = True\n",
    "tok = time.time()\n",
    "print(\"facets-based method:\")\n",
    "print(\"is_pointed : {}\".format(_is_pointed))\n",
    "print(\"time is {}\".format(tok-tik))\n",
    "\n",
    "_is_pointed = None\n",
    "tik = time.time()\n",
    "p = MixedIntegerLinearProgram(solver = 'GLPK', maximization = True)\n",
    "x = p.new_variable()\n",
    "b = p.new_variable()\n",
    "B = p.new_variable()\n",
    "p.solver_parameter(\"simplex_or_intopt\", \"simplex_only\") # use simplex only\n",
    "p.set_objective(B[0])\n",
    "for i in range(num):\n",
    "    for j in range(rays_num):\n",
    "        p.add_constraint( p.sum(x[_] * generating_cones[i].rays()[j][_] for _ in range(dim)) <= -b[i,j] )\n",
    "    p.add_constraint(1>= b[i,j] >= B[0])\n",
    "for j in range(dim):\n",
    "    p.add_constraint( -1 <= x[j]  <= 1 )\n",
    "p.add_constraint(1>=B[0]>=0)\n",
    "if p.solve() <= 10e-15:\n",
    "    _is_pointed = False\n",
    "else:\n",
    "    _is_pointed = True\n",
    "tok = time.time()\n",
    "print(\"generating-rays-based method:\")\n",
    "print(\"is_pointed : {}\".format(_is_pointed))\n",
    "print(\"time is {}\".format(tok-tik))"
   ]
  },
  {
   "cell_type": "code",
   "execution_count": 188,
   "metadata": {},
   "outputs": [
    {
     "name": "stdout",
     "output_type": "stream",
     "text": [
      "Test 3\n",
      "The dim is 5, the number of cones is 50, and each cone includes 3 rays.\n",
      "facets-based method:\n",
      "is_pointed : True\n",
      "time is 0.9586870670318604\n",
      "generating-rays-based method:\n",
      "is_pointed : True\n",
      "time is 0.009662866592407227\n"
     ]
    }
   ],
   "source": [
    "dim = 5\n",
    "num = 50\n",
    "rays_num = 3\n",
    "\n",
    "def inner_product(x,y):\n",
    "    return sum([x[_]*y[_] for _ in range(len(x))])\n",
    "\n",
    "direction_ray = tuple(random() - 0.5 for i in [1 .. dim])\n",
    "generating_cones = []\n",
    "\n",
    "i = 0\n",
    "while i<num:\n",
    "    rays = []\n",
    "    same_direction = True\n",
    "    for j in range(rays_num):\n",
    "        ray = tuple(random()-0.5 for i in [1 .. dim])\n",
    "        if inner_product(direction_ray, ray) < 0:\n",
    "            same_direction = False\n",
    "            break\n",
    "        rays.append(ray)\n",
    "    if same_direction:\n",
    "        generating_cones.append(Cone(rays))\n",
    "        i += 1\n",
    "\n",
    "print(\"Test 3\")\n",
    "print(\"The dim is {}, the number of cones is {}, and each cone includes {} rays.\".format(dim,num,rays_num))\n",
    "_is_pointed = None\n",
    "tik = time.time()\n",
    "empty_cone = Cone([],lattice = generating_cones[0].lattice())\n",
    "common_intersection = empty_cone.dual()\n",
    "for _ in range(num):\n",
    "    common_intersection = common_intersection.intersection(generating_cones[_].polar())\n",
    "    if common_intersection.dim() == 0:\n",
    "        #if common_intersection is empty, then the fan is not pointed.\n",
    "        _is_pointed = False\n",
    "        break\n",
    "if _is_pointed == None:\n",
    "    _is_pointed = True\n",
    "tok = time.time()\n",
    "print(\"facets-based method:\")\n",
    "print(\"is_pointed : {}\".format(_is_pointed))\n",
    "print(\"time is {}\".format(tok-tik))\n",
    "\n",
    "_is_pointed = None\n",
    "tik = time.time()\n",
    "p = MixedIntegerLinearProgram(solver = 'GLPK', maximization = True)\n",
    "x = p.new_variable()\n",
    "b = p.new_variable()\n",
    "B = p.new_variable()\n",
    "p.solver_parameter(\"simplex_or_intopt\", \"simplex_only\") # use simplex only\n",
    "p.set_objective(B[0])\n",
    "for i in range(num):\n",
    "    for j in range(rays_num):\n",
    "        p.add_constraint( p.sum(x[_] * generating_cones[i].rays()[j][_] for _ in range(dim)) <= -b[i,j] )\n",
    "    p.add_constraint(1>= b[i,j] >= B[0])\n",
    "for j in range(dim):\n",
    "    p.add_constraint( -1 <= x[j]  <= 1 )\n",
    "p.add_constraint(1>=B[0]>=0)\n",
    "if p.solve() <= 10e-15:\n",
    "    _is_pointed = False\n",
    "else:\n",
    "    _is_pointed = True\n",
    "tok = time.time()\n",
    "print(\"generating-rays-based method:\")\n",
    "print(\"is_pointed : {}\".format(_is_pointed))\n",
    "print(\"time is {}\".format(tok-tik))"
   ]
  },
  {
   "cell_type": "code",
   "execution_count": 191,
   "metadata": {
    "scrolled": true
   },
   "outputs": [
    {
     "name": "stdout",
     "output_type": "stream",
     "text": [
      "Test 4\n",
      "The dim is 10, the number of cones is 30, and each cone includes 1 rays.\n",
      "facets-based method:\n",
      "is_pointed : True\n",
      "time is 2.1980319023132324\n",
      "generating-rays-based method:\n",
      "is_pointed : False\n",
      "time is 0.004579067230224609\n"
     ]
    }
   ],
   "source": [
    "dim = 10\n",
    "num = 30\n",
    "rays_num = 1\n",
    "\n",
    "def inner_product(x,y):\n",
    "    return sum([x[_]*y[_] for _ in range(len(x))])\n",
    "\n",
    "direction_ray = tuple(random() - 0.5 for i in [1 .. dim])\n",
    "generating_cones = []\n",
    "\n",
    "i = 0\n",
    "while i<num:\n",
    "    rays = []\n",
    "    same_direction = True\n",
    "    for j in range(rays_num):\n",
    "        ray = tuple(random()-0.5 for i in [1 .. dim])\n",
    "        if inner_product(direction_ray, ray) < 0:\n",
    "            same_direction = False\n",
    "            break\n",
    "        rays.append(ray)\n",
    "    if same_direction:\n",
    "        generating_cones.append(Cone(rays))\n",
    "        i += 1\n",
    "\n",
    "print(\"Test 4\")\n",
    "print(\"The dim is {}, the number of cones is {}, and each cone includes {} rays.\".format(dim,num,rays_num))\n",
    "_is_pointed = None\n",
    "tik = time.time()\n",
    "empty_cone = Cone([],lattice = generating_cones[0].lattice())\n",
    "common_intersection = empty_cone.dual()\n",
    "for _ in range(num):\n",
    "    common_intersection = common_intersection.intersection(generating_cones[_].polar())\n",
    "    if common_intersection.dim() == 0:\n",
    "        #if common_intersection is empty, then the fan is not pointed.\n",
    "        _is_pointed = False\n",
    "        break\n",
    "if _is_pointed == None:\n",
    "    _is_pointed = True\n",
    "tok = time.time()\n",
    "print(\"facets-based method:\")\n",
    "print(\"is_pointed : {}\".format(_is_pointed))\n",
    "print(\"time is {}\".format(tok-tik))\n",
    "\n",
    "_is_pointed = None\n",
    "tik = time.time()\n",
    "p = MixedIntegerLinearProgram(solver = 'GLPK', maximization = True)\n",
    "x = p.new_variable()\n",
    "b = p.new_variable()\n",
    "B = p.new_variable()\n",
    "p.solver_parameter(\"simplex_or_intopt\", \"simplex_only\") # use simplex only\n",
    "p.set_objective(B[0])\n",
    "for i in range(num):\n",
    "    for j in range(rays_num):\n",
    "        p.add_constraint( p.sum(x[_] * generating_cones[i].rays()[j][_] for _ in range(dim)) <= -b[i,j] )\n",
    "    p.add_constraint(1>= b[i,j] >= B[0])\n",
    "for j in range(dim):\n",
    "    p.add_constraint( -1 <= x[j]  <= 1 )\n",
    "p.add_constraint(1>=B[0]>=0)\n",
    "if p.solve() <= 10e-15:\n",
    "    _is_pointed = False\n",
    "else:\n",
    "    _is_pointed = True\n",
    "tok = time.time()\n",
    "print(\"generating-rays-based method:\")\n",
    "print(\"is_pointed : {}\".format(_is_pointed))\n",
    "print(\"time is {}\".format(tok-tik))"
   ]
  },
  {
   "cell_type": "markdown",
   "metadata": {},
   "source": [
    "# Initial test codes"
   ]
  },
  {
   "cell_type": "markdown",
   "metadata": {},
   "source": [
    "## Basic Configuration"
   ]
  },
  {
   "cell_type": "code",
   "execution_count": 108,
   "metadata": {},
   "outputs": [],
   "source": [
    "dim = 15\n",
    "num = 50\n",
    "_is_pointed = None\n",
    "generating_cones = []\n",
    "for i in range(num):\n",
    "    ray = tuple(random()-0.5 for i in [1 .. dim])\n",
    "    generating_cones.append(Cone([ray]))"
   ]
  },
  {
   "cell_type": "markdown",
   "metadata": {},
   "source": [
    "## Facets-based method"
   ]
  },
  {
   "cell_type": "code",
   "execution_count": 109,
   "metadata": {},
   "outputs": [
    {
     "name": "stdout",
     "output_type": "stream",
     "text": [
      "False\n",
      "time is 4.852427005767822\n"
     ]
    }
   ],
   "source": [
    "tik = time.time()\n",
    "empty_cone = Cone([],lattice = generating_cones[0].lattice())\n",
    "common_intersection = empty_cone.dual()\n",
    "for _ in range(num):\n",
    "    common_intersection = common_intersection.intersection(generating_cones[_].polar())\n",
    "    if common_intersection.dim() == 0:\n",
    "        #if common_intersection is empty, then the fan is not pointed.\n",
    "        _is_pointed = False\n",
    "        break\n",
    "if _is_pointed == None:\n",
    "    _is_pointed = True\n",
    "tok = time.time()\n",
    "print(_is_pointed)\n",
    "print(\"time of facets-based method is {}\".format(tok-tik))"
   ]
  },
  {
   "cell_type": "markdown",
   "metadata": {},
   "source": [
    "## Generating-rays-based method"
   ]
  },
  {
   "cell_type": "code",
   "execution_count": 110,
   "metadata": {},
   "outputs": [],
   "source": [
    "# Generating-rays-based method, computing the following linear programming \n",
    "# to find the normal vector.\n",
    "# Max.: B\n",
    "# -x . r_i >= b_i\n",
    "# -1<= x_i <= 1\n",
    "# 1>=b_i>= B >= 0\n",
    "# var x, b_i, B\n"
   ]
  },
  {
   "cell_type": "code",
   "execution_count": 112,
   "metadata": {},
   "outputs": [
    {
     "name": "stdout",
     "output_type": "stream",
     "text": [
      "False\n",
      "time of generating-rays-based method is 0.009260892868041992\n"
     ]
    }
   ],
   "source": [
    "_is_pointed = None\n",
    "\n",
    "tik = time.time()\n",
    "p = MixedIntegerLinearProgram(solver = 'GLPK', maximization = False)\n",
    "x = p.new_variable()\n",
    "b = p.new_variable()\n",
    "B = p.new_variable()\n",
    "p.solver_parameter(\"simplex_or_intopt\", \"simplex_only\") # use simplex only\n",
    "p.set_objective(B[0])\n",
    "for i in range(num):\n",
    "    p.add_constraint( p.sum(x[_] * generating_cones[i].rays()[0][_] for _ in range(dim)) <= -b[i] )\n",
    "    p.add_constraint(1>= b[i] >= B[0])\n",
    "for j in range(dim):\n",
    "    p.add_constraint( -1 <= x[j]  <= 1 )\n",
    "p.add_constraint(B[0]>=0)\n",
    "if p.solve() <= 10e-15:\n",
    "    _is_pointed = False\n",
    "else:\n",
    "    _is_pointed = True\n",
    "tok = time.time()\n",
    "print(_is_pointed)\n",
    "print(\"time of generating-rays-based method is {}\".format(tok-tik))"
   ]
  },
  {
   "cell_type": "markdown",
   "metadata": {},
   "source": [
    "# References"
   ]
  },
  {
   "cell_type": "markdown",
   "metadata": {},
   "source": [
    "Tutorials of linear programming in sage \n",
    "- https://doc.sagemath.org/html/en/thematic_tutorials/linear_programming.html\n",
    "\n",
    "- http://fe.math.kobe-u.ac.jp/icms2010-dvd/SAGE/www.sagemath.org/doc/constructions/linear_programming.html"
   ]
  }
 ],
 "metadata": {
  "kernelspec": {
   "display_name": "SageMath 9.5.beta0",
   "language": "sage",
   "name": "sagemath"
  },
  "language_info": {
   "codemirror_mode": {
    "name": "ipython",
    "version": 3
   },
   "file_extension": ".py",
   "mimetype": "text/x-python",
   "name": "python",
   "nbconvert_exporter": "python",
   "pygments_lexer": "ipython3",
   "version": "3.9.7"
  }
 },
 "nbformat": 4,
 "nbformat_minor": 4
}
